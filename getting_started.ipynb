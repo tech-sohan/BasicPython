{
  "nbformat": 4,
  "nbformat_minor": 0,
  "metadata": {
    "colab": {
      "name": "L1 - lec1.ipynb",
      "provenance": [],
      "collapsed_sections": [],
      "include_colab_link": true
    },
    "kernelspec": {
      "display_name": "Python 3",
      "language": "python",
      "name": "python3"
    },
    "language_info": {
      "codemirror_mode": {
        "name": "ipython",
        "version": 3
      },
      "file_extension": ".py",
      "mimetype": "text/x-python",
      "name": "python",
      "nbconvert_exporter": "python",
      "pygments_lexer": "ipython3",
      "version": "3.7.6"
    }
  },
  "cells": [
    {
      "cell_type": "markdown",
      "metadata": {
        "id": "view-in-github",
        "colab_type": "text"
      },
      "source": [
        "<a href=\"https://colab.research.google.com/github/tech-sohan/BasicPython/blob/main/getting_started.ipynb\" target=\"_parent\"><img src=\"https://colab.research.google.com/assets/colab-badge.svg\" alt=\"Open In Colab\"/></a>"
      ]
    },
    {
      "cell_type": "markdown",
      "metadata": {
        "id": "i4zO-Xa0GRyw"
      },
      "source": [
        "# Getting Started with Python\n",
        "\n",
        "Lets start at the very beginning. You can use Python as a calculator.\n",
        "\n",
        "# This is my notebook so take your eyes of that!!!\n",
        "\n",
        "![](https://github.com/tech-sohan/BasicPython/blob/main/getting_started.slides.dir/8.png?raw=1)"
      ]
    },
    {
      "cell_type": "markdown",
      "metadata": {
        "id": "mHYcBo5hGRzH"
      },
      "source": [
        "## A calculator"
      ]
    },
    {
      "cell_type": "code",
      "metadata": {
        "id": "WmHbK9vbGRzJ",
        "outputId": "e84d4870-7f26-4752-b6fd-5f892ed8b7b4"
      },
      "source": [
        "1 + 1"
      ],
      "execution_count": null,
      "outputs": [
        {
          "output_type": "execute_result",
          "data": {
            "text/plain": [
              "2"
            ]
          },
          "metadata": {
            "tags": []
          },
          "execution_count": 1
        }
      ]
    },
    {
      "cell_type": "code",
      "metadata": {
        "id": "mByIR4hjGRzR",
        "outputId": "5b31ac64-ab1f-4718-a3e5-fc36ee446fd1"
      },
      "source": [
        "5 - 1"
      ],
      "execution_count": null,
      "outputs": [
        {
          "output_type": "execute_result",
          "data": {
            "text/plain": [
              "4"
            ]
          },
          "metadata": {
            "tags": []
          },
          "execution_count": 2
        }
      ]
    },
    {
      "cell_type": "code",
      "metadata": {
        "id": "P0VVXC6sGRzS",
        "outputId": "0fc2099f-f75a-4ad0-b92d-b3fa3f7ae443"
      },
      "source": [
        "23*45"
      ],
      "execution_count": null,
      "outputs": [
        {
          "output_type": "execute_result",
          "data": {
            "text/plain": [
              "1035"
            ]
          },
          "metadata": {
            "tags": []
          },
          "execution_count": 3
        }
      ]
    },
    {
      "cell_type": "code",
      "metadata": {
        "id": "yUpYicQeGRzT",
        "outputId": "a5acbacd-8166-495b-dc4a-025627dd6291"
      },
      "source": [
        "2**10"
      ],
      "execution_count": null,
      "outputs": [
        {
          "output_type": "execute_result",
          "data": {
            "text/plain": [
              "1024"
            ]
          },
          "metadata": {
            "tags": []
          },
          "execution_count": 8
        }
      ]
    },
    {
      "cell_type": "code",
      "metadata": {
        "id": "SoYSe_BEGRzU",
        "outputId": "e02ed877-db36-47df-9ba3-eb66b8222bff"
      },
      "source": [
        "5/2"
      ],
      "execution_count": null,
      "outputs": [
        {
          "output_type": "execute_result",
          "data": {
            "text/plain": [
              "2.5"
            ]
          },
          "metadata": {
            "tags": []
          },
          "execution_count": 5
        }
      ]
    },
    {
      "cell_type": "markdown",
      "metadata": {
        "id": "Ik__5UCsGRzV"
      },
      "source": [
        "And this is integer divison:"
      ]
    },
    {
      "cell_type": "code",
      "metadata": {
        "id": "46TUjnTAGRzW",
        "outputId": "da7e0095-8880-4037-9078-663d185673f5"
      },
      "source": [
        "5//2"
      ],
      "execution_count": null,
      "outputs": [
        {
          "output_type": "execute_result",
          "data": {
            "text/plain": [
              "2"
            ]
          },
          "metadata": {
            "tags": []
          },
          "execution_count": 6
        }
      ]
    },
    {
      "cell_type": "markdown",
      "metadata": {
        "id": "bwmbpIaTGRzX"
      },
      "source": [
        "You can also get the remainder:"
      ]
    },
    {
      "cell_type": "code",
      "metadata": {
        "id": "2vFE_u2QGRzY",
        "outputId": "35460a58-f345-44f9-ee9f-578444672f7d"
      },
      "source": [
        "5 % 2"
      ],
      "execution_count": null,
      "outputs": [
        {
          "output_type": "execute_result",
          "data": {
            "text/plain": [
              "1"
            ]
          },
          "metadata": {
            "tags": []
          },
          "execution_count": 7
        }
      ]
    },
    {
      "cell_type": "markdown",
      "metadata": {
        "id": "1iOs0Qd_ah_A"
      },
      "source": [
        "A language is not particularly useful,if you cant *symbolically* assign values in the language to names. This is the concept of *variables*, stolen from algebra.\n",
        "\n",
        "## Variables\n",
        "\n",
        "**Variables are labels for values**\n",
        "\n",
        "- Start with a letter or underscore\n",
        "- Can contain only alpha-numeric characters and underscore\n",
        "- Are case sensitive"
      ]
    },
    {
      "cell_type": "code",
      "metadata": {
        "id": "uX-33Ockarbc",
        "outputId": "072f2eaa-9921-40e9-8e00-bfdb80bcc6ea"
      },
      "source": [
        "# CANT DO THIS 9variable = \"hello\"\n",
        "# print 9variable\n",
        "\n",
        "Var = \"hello\"\n",
        "#print (var) # will give an error\n",
        "print (Var)"
      ],
      "execution_count": null,
      "outputs": [
        {
          "output_type": "stream",
          "text": [
            "hello\n"
          ],
          "name": "stdout"
        }
      ]
    },
    {
      "cell_type": "markdown",
      "metadata": {
        "id": "PZJABcjZGRzc"
      },
      "source": [
        "What happened above? In the computer's memory, a location was found, and then filled with the word \"hello\". Then a variable `Var` was created and was used to label this memory location.\n",
        "\n",
        "![](https://github.com/tech-sohan/BasicPython/blob/main/images/labelmem.jpg?raw=1)"
      ]
    },
    {
      "cell_type": "markdown",
      "metadata": {
        "id": "i883lrL-au-6"
      },
      "source": [
        "### Variable Data Types\n",
        "\n",
        "  - Integer\n",
        "  - Float\n",
        "  - String\n",
        "  - Boolean\n",
        "\n",
        "(More data types are available but not necessary now)"
      ]
    },
    {
      "cell_type": "code",
      "metadata": {
        "id": "PXUOcyCYa0B4",
        "outputId": "610a27d5-721e-4b40-9775-46d23eedc1e4"
      },
      "source": [
        "#To identify the data type of a variable in python we use the built-in function type()\n",
        "\n",
        "var = 7\n",
        "print (var)\n",
        "print(\"The data type is:\", type(var))"
      ],
      "execution_count": null,
      "outputs": [
        {
          "output_type": "stream",
          "text": [
            "7\n",
            "The data type is: <class 'int'>\n"
          ],
          "name": "stdout"
        }
      ]
    },
    {
      "cell_type": "code",
      "metadata": {
        "id": "gxlREmada7xz",
        "outputId": "eb0fa72d-ec45-4d4b-f6b7-6182da3186df"
      },
      "source": [
        "var = 7.01\n",
        "print (var)\n",
        "print(\"The data type is:\", type(var))"
      ],
      "execution_count": null,
      "outputs": [
        {
          "output_type": "stream",
          "text": [
            "7.01\n",
            "The data type is: <class 'float'>\n"
          ],
          "name": "stdout"
        }
      ]
    },
    {
      "cell_type": "code",
      "metadata": {
        "id": "8KC5JyfZa93t",
        "outputId": "a5441078-3e90-44cf-f7cc-ec28dd465c15"
      },
      "source": [
        "var = \"Hello World!\"\n",
        "print (var)\n",
        "print(\"The data type is:\", type(var))"
      ],
      "execution_count": null,
      "outputs": [
        {
          "output_type": "stream",
          "text": [
            "Hello World!\n",
            "The data type is: <class 'str'>\n"
          ],
          "name": "stdout"
        }
      ]
    },
    {
      "cell_type": "code",
      "metadata": {
        "id": "llCMJzpcbAAp",
        "outputId": "46fd9dc2-2360-4262-d733-6cb4749cd411"
      },
      "source": [
        "var = True\n",
        "print (var)\n",
        "print(\"The data type is:\", type(var))"
      ],
      "execution_count": null,
      "outputs": [
        {
          "output_type": "stream",
          "text": [
            "True\n",
            "The data type is: <class 'bool'>\n"
          ],
          "name": "stdout"
        }
      ]
    },
    {
      "cell_type": "markdown",
      "metadata": {
        "id": "4UCLnzE3GRzi"
      },
      "source": [
        "A variable is literally a label. You can think of it as a post-it, or sticky note, or a *pointer*. Do not think of it as a box in which a value is stored.\n",
        "\n",
        "In the above, we just take the variable `var` and point it to different pieces of memory holding different values. This is perhaps more clear from a diagram.\n",
        "\n",
        "![](https://github.com/tech-sohan/BasicPython/blob/main/images/labelmemmany.jpg?raw=1)"
      ]
    },
    {
      "cell_type": "markdown",
      "metadata": {
        "id": "R7rxdurPbFOE"
      },
      "source": [
        "## Even More operators\n",
        "\n",
        "Besides the usual \"operators\" for values we profiled at the top, you can also use the following:\n",
        "\n",
        "1. Boolean Expressions: returns True or False \n",
        "2. Relational operators: !=, ==, <=, <, >, >= \n",
        "3. Logical Operators: and, or, not\n",
        "\n",
        "You can use a variable, wherever you had used a value:"
      ]
    },
    {
      "cell_type": "code",
      "metadata": {
        "id": "ecFxNLCybLTC"
      },
      "source": [
        "# Arithmetic Operators\n",
        "var1 = 5\n",
        "var2 = 3\n",
        "\n",
        "print (var1 - var2)\n",
        "print (var1*var2)\n",
        "\n",
        "var1 = \"hello\"\n",
        "var2 = \"world\"\n",
        "var3 = \"!\"\n",
        "print (var1+\" \"+var2+var3)\n",
        "\n",
        "# Modulus\n",
        "a = 5\n",
        "b = 2\n",
        "c = a%b\n",
        "print (c)"
      ],
      "execution_count": null,
      "outputs": []
    },
    {
      "cell_type": "markdown",
      "metadata": {
        "id": "xDppA6aYGRzk"
      },
      "source": [
        "In any programming language, to be able to do something useful, you need to be able to evaluate the \"truthiness\" of expressions."
      ]
    },
    {
      "cell_type": "code",
      "metadata": {
        "id": "4aI3w5AUGRzl",
        "outputId": "0f8c4fad-c925-4d3d-830e-8ac7df1775be"
      },
      "source": [
        "# Relational Operators & Boolean expressions\n",
        "var1 = 5\n",
        "var2 = 3\n",
        "print (var1 < var2)"
      ],
      "execution_count": null,
      "outputs": [
        {
          "output_type": "stream",
          "text": [
            "False\n"
          ],
          "name": "stdout"
        }
      ]
    },
    {
      "cell_type": "markdown",
      "metadata": {
        "id": "R0k4LvlRGRzm"
      },
      "source": [
        "Such comparisons can be used to make decisions, as we shall soon see."
      ]
    },
    {
      "cell_type": "code",
      "metadata": {
        "colab": {
          "base_uri": "https://localhost:8080/"
        },
        "id": "pDVaxxHmGRzm",
        "outputId": "564c11af-5d36-4964-baaa-de9997adc378"
      },
      "source": [
        "a = \"hgi\"\n",
        "b = \"hello\"\n",
        "c = \"hi\"\n",
        "d = \"hello\"\n",
        "print (a==c)\n",
        "print (b==d)"
      ],
      "execution_count": 1,
      "outputs": [
        {
          "output_type": "stream",
          "text": [
            "False\n",
            "True\n"
          ],
          "name": "stdout"
        }
      ]
    },
    {
      "cell_type": "markdown",
      "metadata": {
        "id": "vnedJqI8GRzn"
      },
      "source": [
        "The first comparison compares the contents of the memory for `a` and `c` and finds that both are different, giving us `False`. Conversely, the second comparison gives us `True`. We can utilize such comparisons in \"decision statements\"."
      ]
    },
    {
      "cell_type": "markdown",
      "metadata": {
        "id": "5at6TQF3bsw7"
      },
      "source": [
        "## Conditional Statements and Python Indentation\n",
        "\n",
        "If you have the ability to test something for \"truthiness\", you can use it to make a decision."
      ]
    },
    {
      "cell_type": "code",
      "metadata": {
        "id": "VUZf9DZ3bzJa",
        "outputId": "9ec2cd18-0b02-4524-d806-79e4ee510b85"
      },
      "source": [
        "#Simple If conditions\n",
        "var1 = 5\n",
        "var2 = 10\n",
        "\n",
        "if var1 == var2:\n",
        "    print(\"The values are equal\")\n",
        "if var1 < var2:\n",
        "    print(\"First variable is lesser than the second variable\")\n",
        "if var1 > var2:\n",
        "    print(\"Second variable is lesser than the first variable\")"
      ],
      "execution_count": null,
      "outputs": [
        {
          "output_type": "stream",
          "text": [
            "First variable is lesser than the second variable\n"
          ],
          "name": "stdout"
        }
      ]
    },
    {
      "cell_type": "markdown",
      "metadata": {
        "id": "fMFaSo-1GRzs"
      },
      "source": [
        "Notice how python dispenses with brackets, **replacing them by a colon and an indented next line**. The indentation tells us that the code below runs when the condition holds. Python uses this **colon-indentation** for many things, such as *for loops* for iteration and loops in general, for conditionals, for function and class definition, etc."
      ]
    },
    {
      "cell_type": "markdown",
      "metadata": {
        "id": "wcBXkGsvGRzt"
      },
      "source": [
        "This conditional is such a common idiom that there is a better way to write it."
      ]
    },
    {
      "cell_type": "code",
      "metadata": {
        "id": "VsRHt8nKb1xv",
        "outputId": "08b8f83a-d7e8-442b-f7e3-7d6eae27b8d6"
      },
      "source": [
        "#An alternative way to code the previous (If-Else)\n",
        "var1 = 5\n",
        "var2 = 10\n",
        "\n",
        "if (var1 == var2):\n",
        "    print(\"The values are equal\")\n",
        "elif (var1 < var2):\n",
        "    print(\"First variable is lesser than the second variable\")  \n",
        "else:\n",
        "    print(\"Second variable is lesser than the first variable\")"
      ],
      "execution_count": null,
      "outputs": [
        {
          "output_type": "stream",
          "text": [
            "First variable is lesser than the second variable\n"
          ],
          "name": "stdout"
        }
      ]
    },
    {
      "cell_type": "markdown",
      "metadata": {
        "id": "2pGyZ_7YGRzu"
      },
      "source": [
        "Notice the brackets around the conditional. These are optional but can sometimes help disambiguate. You can combine multiple such statements."
      ]
    },
    {
      "cell_type": "code",
      "metadata": {
        "id": "5i9oEH0sb7qw",
        "outputId": "404adbd8-ba60-4710-ecfa-b7a8e9be15e0"
      },
      "source": [
        "#Nested If\n",
        "var1 = 5\n",
        "var2 = 10\n",
        "var3 = 15\n",
        "\n",
        "if (var1 == var2):\n",
        "    print (\"The values are equal\")\n",
        "\n",
        "elif (var1 < var2):\n",
        "    if (var2 == var3):\n",
        "        print (\"Equal \")\n",
        "    elif (var2 < var3):\n",
        "        print (\"Less than\")\n",
        "    else:\n",
        "        print (\"Greater than\")\n",
        "\n",
        "else:\n",
        "    print (\"Did not satisfy any previous conditions\")\n"
      ],
      "execution_count": null,
      "outputs": [
        {
          "output_type": "stream",
          "text": [
            "Less than\n"
          ],
          "name": "stdout"
        }
      ]
    }
  ]
}